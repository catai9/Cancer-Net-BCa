{
  "cells": [
    {
      "cell_type": "markdown",
      "metadata": {
        "id": "GFZ1FcVD5dGI"
      },
      "source": [
        "# Setup and Imports"
      ]
    },
    {
      "cell_type": "code",
      "execution_count": 1,
      "metadata": {
        "colab": {
          "base_uri": "https://localhost:8080/"
        },
        "id": "Wvkq6xslFhYT",
        "outputId": "b71d94a9-8004-4f0e-c1eb-1fb4cee1cb08"
      },
      "outputs": [
        {
          "name": "stdout",
          "output_type": "stream",
          "text": [
            "Looking in indexes: https://pypi.org/simple, https://us-python.pkg.dev/colab-wheels/public/simple/\n",
            "Requirement already satisfied: monai in /usr/local/lib/python3.7/dist-packages (1.0.1)\n",
            "Requirement already satisfied: torch>=1.7 in /usr/local/lib/python3.7/dist-packages (from monai) (1.12.1+cu113)\n",
            "Requirement already satisfied: numpy>=1.17 in /usr/local/lib/python3.7/dist-packages (from monai) (1.21.6)\n",
            "Requirement already satisfied: typing-extensions in /usr/local/lib/python3.7/dist-packages (from torch>=1.7->monai) (4.1.1)\n"
          ]
        }
      ],
      "source": [
        "# Install if monai not installed\n",
        "!pip install monai"
      ]
    },
    {
      "cell_type": "code",
      "execution_count": 2,
      "metadata": {
        "id": "k5FOEkRXFjHU"
      },
      "outputs": [],
      "source": [
        "# Imports\n",
        "import torch\n",
        "from torch.utils.data import DataLoader\n",
        "\n",
        "import time\n",
        "import json\n",
        "import numpy as np\n",
        "\n",
        "import monai\n",
        "from monai.data import ArrayDataset\n",
        "\n",
        "from skimage.transform import resize\n",
        "\n",
        "import matplotlib.pyplot as plt\n",
        "from matplotlib import cm"
      ]
    },
    {
      "cell_type": "markdown",
      "metadata": {
        "id": "AdsBtmXb5fqk"
      },
      "source": [
        "# Model Prediction Method Setup"
      ]
    },
    {
      "cell_type": "code",
      "execution_count": 3,
      "metadata": {
        "id": "QWO2dckYlnjx"
      },
      "outputs": [],
      "source": [
        "# Helper methods to generate and resize images for model input.\n",
        "def generate_heatmap(heatmap, mask=None, alpha=0.2, cmap='jet'):\n",
        "    if mask.ndim < 4:\n",
        "      mask = mask[..., None]\n",
        "\n",
        "    # Get colormap indices\n",
        "    indices = np.round(255.*heatmap).astype(np.int32)\n",
        "\n",
        "    # Get colourmap values\n",
        "    levels = list(range(256))\n",
        "    cm_func = cm.get_cmap(cmap)\n",
        "    cmap_vals = cm_func(levels)[:, :3]\n",
        "\n",
        "    # Gather colourmap values at indices\n",
        "    return np.take(cmap_vals, indices, axis=0)\n",
        "  \n",
        "def resize_reshape_image(cdis_img):\n",
        "  reshaped_img = [None] * min(cdis_img.shape[0], 25)\n",
        "\n",
        "  # Reduce to 25 slices.\n",
        "  if cdis_img.shape[0] > 25:\n",
        "      slice_index = abs(cdis_img.shape[0] - 25)\n",
        "      cdis_img = cdis_img[:-slice_index] # standardizing to 25 slices\n",
        "\n",
        "  # Resize to 224 x 224.\n",
        "  for slc in range(cdis_img.shape[0]):\n",
        "    slc_res = resize(cdis_img[slc], (224, 224))\n",
        "    reshaped_img[slc] = slc_res\n",
        "  \n",
        "  return reshaped_img\n"
      ]
    },
    {
      "cell_type": "code",
      "execution_count": 4,
      "metadata": {
        "id": "ReNGxFVRFkKb"
      },
      "outputs": [],
      "source": [
        "# Method to preprocess CDIs image for model input.\n",
        "cdis_linear_window = [0, 5000]\n",
        "alpha = 0.3  # lower --> increased transparency, higher --> reduced transparency\n",
        "\n",
        "def preprocess_cdis_imgs(img):\n",
        "\n",
        "    # Masks for non-zeros values\n",
        "    cdis_mask = img > 0\n",
        "\n",
        "    # Linearize and normalize the CDI^s value.\n",
        "    cdis = np.clip(img, *cdis_linear_window)\n",
        "    norm_cdis = (cdis - cdis_linear_window[0])/(cdis_linear_window[1] - cdis_linear_window[0])\n",
        "\n",
        "    # Compute the pure CDIs image\n",
        "    cdis_image = generate_heatmap(norm_cdis, mask=cdis_mask, alpha=alpha)\n",
        "\n",
        "    # Standardize the image.\n",
        "    std_img = np.array(resize_reshape_image(cdis_image))\n",
        "\n",
        "    # Change the dimensions of the image to expected dimensions.\n",
        "    final_img = np.transpose(std_img, (3, 0, 1, 2))\n",
        "\n",
        "    return final_img"
      ]
    },
    {
      "cell_type": "code",
      "execution_count": 5,
      "metadata": {
        "id": "CWAKGEkhFlnl"
      },
      "outputs": [],
      "source": [
        "# Method to get model prediction given images and a path to the model weights.\n",
        "def get_model_prediction(imgs, path_to_model_weights):\n",
        "  device = torch.device(\"cuda\" if torch.cuda.is_available() else \"cpu\")\n",
        "\n",
        "  # Load trained model.\n",
        "  model = monai.networks.nets.resnet34(spatial_dims=3, n_input_channels=1, \n",
        "                                    num_classes=2, pretrained=False)\n",
        "\n",
        "  model.conv1= torch.nn.Conv3d(3, 64, kernel_size=(7,7,7), stride=(1, 1, 1), padding=(3, 3, 3), bias=False)\n",
        "  model = model.to(device)\n",
        "\n",
        "  model.load_state_dict(torch.load(path_to_model_weights))\n",
        "  model.eval()\n",
        "\n",
        "  # Load in the patient data.\n",
        "  pred_ds = ArrayDataset(img=imgs, labels=[0])\n",
        "  test_loader = DataLoader(pred_ds, batch_size=1, shuffle=True, pin_memory=torch.cuda.is_available())\n",
        "  y_pred = []\n",
        "    \n",
        "  # Predict pCR for the given image.\n",
        "  with torch.no_grad():\n",
        "      for test_data in test_loader:\n",
        "          test_images, test_labels = (\n",
        "              test_data[0].float().to(device),\n",
        "              test_data[1].to(device),\n",
        "          )\n",
        "          pred = model(test_images).argmax(dim=1)\n",
        "          for i in range(len(pred)):\n",
        "              y_pred.append(pred[i].item())\n",
        "  \n",
        "  return y_pred"
      ]
    },
    {
      "cell_type": "markdown",
      "metadata": {
        "id": "ap4z_TYM5j4k"
      },
      "source": [
        "# Demo Image Output with CancerNet-BCa-A Model"
      ]
    },
    {
      "cell_type": "code",
      "execution_count": 6,
      "metadata": {
        "colab": {
          "base_uri": "https://localhost:8080/"
        },
        "id": "kQwuDmbNFsEN",
        "outputId": "f219102e-4fa7-40d3-99dd-e32392706c39"
      },
      "outputs": [
        {
          "name": "stdout",
          "output_type": "stream",
          "text": [
            "Actual patient pCR: True\n",
            "Predicted patient pCR:  True\n"
          ]
        }
      ],
      "source": [
        "# Step 0: Get model location and load demo image.\n",
        "path_to_model_weights = \"models/CancerNet-BCa-A.pth\"\n",
        "demo_cdis_img = np.load(\"demo_cdis.npy\")\n",
        "\n",
        "# Step 1: Preprocess demo image.\n",
        "demo_cdis_img_preprocessed = preprocess_cdis_imgs(demo_cdis_img)\n",
        "\n",
        "# Step 2: Get model prediction for preprocessed demo image.\n",
        "pred = get_model_prediction([demo_cdis_img_preprocessed], path_to_model_weights)\n",
        "\n",
        "# Step 3: Print model prediction to the user.\n",
        "print(\"Actual patient pCR: True\")\n",
        "print(\"Predicted patient pCR: \", pred[0] == 0)\n"
      ]
    },
    {
      "cell_type": "code",
      "execution_count": 6,
      "metadata": {
        "id": "VbhaYxWRlVnC"
      },
      "outputs": [],
      "source": []
    }
  ],
  "metadata": {
    "accelerator": "GPU",
    "colab": {
      "collapsed_sections": [],
      "provenance": []
    },
    "gpuClass": "standard",
    "kernelspec": {
      "display_name": "Python 3",
      "name": "python3"
    },
    "language_info": {
      "name": "python"
    }
  },
  "nbformat": 4,
  "nbformat_minor": 0
}
